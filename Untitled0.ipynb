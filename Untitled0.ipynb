{
  "nbformat": 4,
  "nbformat_minor": 0,
  "metadata": {
    "colab": {
      "provenance": [],
      "authorship_tag": "ABX9TyMsLHIFFZGBB7D6nB/dDbqY",
      "include_colab_link": true
    },
    "kernelspec": {
      "name": "python3",
      "display_name": "Python 3"
    },
    "language_info": {
      "name": "python"
    }
  },
  "cells": [
    {
      "cell_type": "markdown",
      "metadata": {
        "id": "view-in-github",
        "colab_type": "text"
      },
      "source": [
        "<a href=\"https://colab.research.google.com/github/24057231-eng/data-science-toolkit/blob/main/Untitled0.ipynb\" target=\"_parent\"><img src=\"https://colab.research.google.com/assets/colab-badge.svg\" alt=\"Open In Colab\"/></a>"
      ]
    },
    {
      "cell_type": "code",
      "execution_count": null,
      "metadata": {
        "id": "NHLgEAW2hlMK"
      },
      "outputs": [],
      "source": [
        "import numpy as np\n",
        "# Create a numpy array of size 2 x 2\n",
        "arr2x2 = np.array([[1,2],[3,4]])\n",
        "print(\"numpy array of size 2*2:\")\n",
        "print(arr2x2)\n",
        "#Create a random numpy array of size 3 x 4\n",
        "random3x4 = np.random.rand(3,4)\n",
        "print(\"random numpy array of size 3*4:\")\n",
        "print(random3x4)\n",
        "#Create a numpy array of ones and a numpy array of zeroes\n",
        "onesArr = np.ones((2,2))\n",
        "zerosArr = np.zeros((2,2))\n",
        "print(\"numpy array of ones:\")\n",
        "print(onesArr)\n",
        "print(\"numpy array of zeros:\")\n",
        "print(zerosArr)\n",
        "#Create a random numpy array of size 6x3 and transpose it\n",
        "random6x3 = np.random.rand(6,3)\n",
        "transArr = random6x3.T\n",
        "print(\"origianl array:\")\n",
        "print(random6x3)\n",
        "print(\"transposed array:\")\n",
        "print(transArr)\n",
        "#Create two random numpy array of size n x p and p x m and then compute the dot product\n",
        "arr2x2 = np.random.rand(2,2)\n",
        "arr3x3 = np.random.rand(3,3)\n",
        "dotProduct = np.dot(arr2x2,arr3x3)\n",
        "print(\"dot product:\")\n",
        "print(dotProduct)\n"
      ]
    }
  ]
}